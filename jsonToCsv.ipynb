{
 "cells": [
  {
   "cell_type": "code",
   "execution_count": 2,
   "metadata": {},
   "outputs": [],
   "source": [
    "import os\n",
    "import requests\n",
    "import json\n",
    "import pandas as pd\n",
    "import configparser"
   ]
  },
  {
   "cell_type": "code",
   "execution_count": 3,
   "metadata": {},
   "outputs": [],
   "source": [
    "my_proj = 'bees'\n",
    "csv_filenm = 'bees.csv'\n",
    "from os import listdir\n",
    "from os.path import isfile, join\n",
    "onlyfiles = [f for f in listdir(os.getcwd()+ '/json_files')]\n",
    "\n",
    "data_frames = []\n",
    "for file in onlyfiles:\n",
    "    with open('json_files/' + file, 'r') as myfile:\n",
    "        data=myfile.read()\n",
    "        \n",
    "    obj = json.loads(data)\n",
    "    lblbx_df = pd.DataFrame(obj)\n",
    "    lblbx_df.to_csv(csv_filenm)\n",
    "    data_frames.append(lblbx_df)\n",
    "merged = pd.concat(data_frames, ignore_index=True)\n",
    "merged.to_csv(csv_filenm)\n"
   ]
  }
 ],
 "metadata": {
  "interpreter": {
   "hash": "03d8a7f871a9724f8c88b33b751ba9b00bea16b973a6526f1a26bc79cc96f0f4"
  },
  "kernelspec": {
   "display_name": "Python 3.9.7 ('base')",
   "language": "python",
   "name": "python3"
  },
  "language_info": {
   "codemirror_mode": {
    "name": "ipython",
    "version": 3
   },
   "file_extension": ".py",
   "mimetype": "text/x-python",
   "name": "python",
   "nbconvert_exporter": "python",
   "pygments_lexer": "ipython3",
   "version": "3.9.7"
  },
  "orig_nbformat": 4
 },
 "nbformat": 4,
 "nbformat_minor": 2
}
