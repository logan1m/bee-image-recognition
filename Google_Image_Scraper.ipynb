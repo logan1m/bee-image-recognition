{
 "cells": [
  {
   "cell_type": "code",
   "execution_count": 1,
   "metadata": {},
   "outputs": [],
   "source": [
    "import os\n",
    "from urllib import parse\n",
    "from urllib import request as req\n",
    "import requests\n",
    "import bs4\n",
    "import hashlib\n",
    "import selenium\n",
    "import time\n",
    "from PIL import Image\n",
    "import io\n",
    "from selenium import webdriver"
   ]
  },
  {
   "cell_type": "code",
   "execution_count": 2,
   "metadata": {},
   "outputs": [],
   "source": [
    "# If you got the error \"No module named 'selenium'\", \n",
    "# please run the following code\n",
    "#pip install selenium"
   ]
  },
  {
   "cell_type": "code",
   "execution_count": 3,
   "metadata": {},
   "outputs": [
    {
     "name": "stdout",
     "output_type": "stream",
     "text": [
      "c:\\Users\\logan\\Documents\\Data Mining\\Project\n"
     ]
    }
   ],
   "source": [
    "cwd = os.getcwd()\n",
    "print(cwd)"
   ]
  },
  {
   "cell_type": "code",
   "execution_count": 4,
   "metadata": {},
   "outputs": [
    {
     "name": "stderr",
     "output_type": "stream",
     "text": [
      "C:\\Users\\logan\\AppData\\Local\\Temp/ipykernel_8684/491042177.py:11: DeprecationWarning: executable_path has been deprecated, please pass in a Service object\n",
      "  wd = webdriver.Chrome(executable_path=DRIVER_PATH)\n"
     ]
    }
   ],
   "source": [
    "# This is the path I use\n",
    "# DRIVER_PATH = '.../Desktop/Scraping/chromedriver 2'\n",
    "# Put the path for your ChromeDriver here\n",
    "#DRIVER_PATH = r'C:\\Users\\Al\\Desktop\\Scraping\\chromedriver2\\chromedriver.exe'\n",
    "#wd = webdriver.Chrome(executable_path=DRIVER_PATH)\n",
    "\n",
    "# This is the path I use\n",
    "# DRIVER_PATH = '.../Desktop/Scraping/chromedriver 2'\n",
    "# Put the path for your ChromeDriver here\n",
    "DRIVER_PATH='/Users/logan/Documents/Data Mining/Project/chromedriver'\n",
    "wd = webdriver.Chrome(executable_path=DRIVER_PATH)"
   ]
  },
  {
   "cell_type": "code",
   "execution_count": 5,
   "metadata": {},
   "outputs": [],
   "source": [
    "wd.get('https://google.com')"
   ]
  },
  {
   "cell_type": "code",
   "execution_count": 6,
   "metadata": {},
   "outputs": [
    {
     "name": "stderr",
     "output_type": "stream",
     "text": [
      "C:\\Users\\logan\\AppData\\Local\\Temp/ipykernel_8684/3184414682.py:1: DeprecationWarning: find_element_by_* commands are deprecated. Please use find_element() instead\n",
      "  search_box = wd.find_element_by_css_selector('input.gLFyf')\n"
     ]
    }
   ],
   "source": [
    "search_box = wd.find_element_by_css_selector('input.gLFyf')\n",
    "search_box.send_keys('Dogs')"
   ]
  },
  {
   "cell_type": "code",
   "execution_count": 7,
   "metadata": {},
   "outputs": [],
   "source": [
    "wd.quit()"
   ]
  },
  {
   "cell_type": "code",
   "execution_count": 8,
   "metadata": {},
   "outputs": [
    {
     "name": "stderr",
     "output_type": "stream",
     "text": [
      "C:\\Users\\logan\\AppData\\Local\\Temp/ipykernel_8684/2548834382.py:2: DeprecationWarning: executable_path has been deprecated, please pass in a Service object\n",
      "  wd = webdriver.Chrome(executable_path=DRIVER_PATH)\n"
     ]
    }
   ],
   "source": [
    "DRIVER_PATH='/Users/logan/Documents/Data Mining/Project/chromedriver'\n",
    "wd = webdriver.Chrome(executable_path=DRIVER_PATH)"
   ]
  },
  {
   "cell_type": "code",
   "execution_count": 9,
   "metadata": {},
   "outputs": [],
   "source": [
    "def fetch_image_urls(query:str, max_links_to_fetch:int, wd:webdriver, sleep_between_interactions:int=1):\n",
    "    def scroll_to_end(wd):\n",
    "        wd.execute_script(\"window.scrollTo(0, document.body.scrollHeight);\")\n",
    "        time.sleep(sleep_between_interactions)    \n",
    "    \n",
    "    # build the google query\n",
    "    search_url = \"https://www.google.com/search?safe=off&site=&tbm=isch&source=hp&q={q}&oq={q}&gs_l=img\"\n",
    "\n",
    "    # load the page\n",
    "    wd.get(search_url.format(q=query))\n",
    "\n",
    "    image_urls = set()\n",
    "    image_count = 0\n",
    "    results_start = 0\n",
    "    while image_count < max_links_to_fetch:\n",
    "        scroll_to_end(wd)\n",
    "\n",
    "        # get all image thumbnail results\n",
    "        thumbnail_results = wd.find_elements_by_css_selector(\"img.Q4LuWd\")\n",
    "        number_results = len(thumbnail_results)\n",
    "        \n",
    "        print(f\"Found: {number_results} search results. Extracting links from {results_start}:{number_results}\")\n",
    "        \n",
    "        for img in thumbnail_results[results_start:number_results]:\n",
    "            # try to click every thumbnail such that we can get the real image behind it\n",
    "            try:\n",
    "                img.click()\n",
    "                time.sleep(sleep_between_interactions)\n",
    "            except Exception:\n",
    "                continue\n",
    "\n",
    "            # extract image urls    \n",
    "            actual_images = wd.find_elements_by_css_selector('img.n3VNCb')\n",
    "            for actual_image in actual_images:\n",
    "                if actual_image.get_attribute('src') and 'http' in actual_image.get_attribute('src'):\n",
    "                    image_urls.add(actual_image.get_attribute('src'))\n",
    "\n",
    "            image_count = len(image_urls)\n",
    "\n",
    "            if len(image_urls) >= max_links_to_fetch:\n",
    "                print(f\"Found: {len(image_urls)} image links, done!\")\n",
    "                break\n",
    "        else:\n",
    "            print(\"Found:\", len(image_urls), \"image links, looking for more ...\")\n",
    "            time.sleep(30)\n",
    "            \"\"\"\n",
    "            return\n",
    "            load_more_button = wd.find_element_by_css_selector(\".mye4qd\")\n",
    "            if load_more_button:\n",
    "                wd.execute_script(\"document.querySelector('.mye4qd').click();\")\n",
    "            \"\"\"\n",
    "        # move the result startpoint further down\n",
    "        results_start = len(thumbnail_results)\n",
    "\n",
    "    return image_urls"
   ]
  },
  {
   "cell_type": "code",
   "execution_count": 10,
   "metadata": {},
   "outputs": [],
   "source": [
    "def persist_image(folder_path:str,url:str):\n",
    "    try:\n",
    "        image_content = requests.get(url).content\n",
    "\n",
    "    except Exception as e:\n",
    "        print(f\"ERROR - Could not download {url} - {e}\")\n",
    "\n",
    "    try:\n",
    "        image_file = io.BytesIO(image_content)\n",
    "        image = Image.open(image_file).convert('RGB')\n",
    "        file_path = os.path.join(folder_path,hashlib.sha1(image_content).hexdigest()[:10] + '.jpg')\n",
    "        with open(file_path, 'wb') as f:\n",
    "            image.save(f, \"JPEG\", quality=85)\n",
    "        print(f\"SUCCESS - saved {url} - as {file_path}\")\n",
    "    except Exception as e:\n",
    "        print(f\"ERROR - Could not save {url} - {e}\")"
   ]
  },
  {
   "cell_type": "code",
   "execution_count": 11,
   "metadata": {},
   "outputs": [],
   "source": [
    "def search_and_download(search_term:str,driver_path:str,target_path='./images',number_images=1):\n",
    "    target_folder = os.path.join(target_path,'_'.join(search_term.lower().split(' ')))\n",
    "\n",
    "    if not os.path.exists(target_folder):\n",
    "        os.makedirs(target_folder)\n",
    "\n",
    "    with webdriver.Chrome(executable_path=driver_path) as wd:\n",
    "        res = fetch_image_urls(search_term, number_images, wd=wd, sleep_between_interactions=0.5)\n",
    "        \n",
    "    for elem in res:\n",
    "        if elem:\n",
    "            persist_image(target_folder,elem)"
   ]
  },
  {
   "cell_type": "code",
   "execution_count": 12,
   "metadata": {},
   "outputs": [
    {
     "name": "stderr",
     "output_type": "stream",
     "text": [
      "C:\\Users\\logan\\AppData\\Local\\Temp/ipykernel_8684/2266906156.py:7: DeprecationWarning: executable_path has been deprecated, please pass in a Service object\n",
      "  with webdriver.Chrome(executable_path=driver_path) as wd:\n",
      "C:\\Users\\logan\\AppData\\Local\\Temp/ipykernel_8684/1116780312.py:19: DeprecationWarning: find_elements_by_* commands are deprecated. Please use find_elements() instead\n",
      "  thumbnail_results = wd.find_elements_by_css_selector(\"img.Q4LuWd\")\n"
     ]
    },
    {
     "name": "stdout",
     "output_type": "stream",
     "text": [
      "Found: 100 search results. Extracting links from 0:100\n"
     ]
    },
    {
     "name": "stderr",
     "output_type": "stream",
     "text": [
      "C:\\Users\\logan\\AppData\\Local\\Temp/ipykernel_8684/1116780312.py:33: DeprecationWarning: find_elements_by_* commands are deprecated. Please use find_elements() instead\n",
      "  actual_images = wd.find_elements_by_css_selector('img.n3VNCb')\n"
     ]
    },
    {
     "name": "stdout",
     "output_type": "stream",
     "text": [
      "Found: 101 image links, done!\n",
      "SUCCESS - saved https://i.pinimg.com/736x/69/d2/7b/69d27bc3519cbd46a2bcc8819ae91a6d.jpg - as ./images\\carpenter_bee_sting\\27fcd1fe28.jpg\n",
      "SUCCESS - saved https://encrypted-tbn0.gstatic.com/images?q=tbn:ANd9GcTXPYH9dnLsctdFg09qFAArs8O9W8YTyeGepg&usqp=CAU - as ./images\\carpenter_bee_sting\\ae5b281265.jpg\n",
      "SUCCESS - saved https://encrypted-tbn0.gstatic.com/images?q=tbn:ANd9GcRRktyKrOAbtiAC2owDXALBZbAdy8toUkEvRA&usqp=CAU - as ./images\\carpenter_bee_sting\\66884e950b.jpg\n",
      "SUCCESS - saved https://encrypted-tbn0.gstatic.com/images?q=tbn:ANd9GcTrz-zVtWyw9Erqo3ZGWGFRq1cdEPgTcMyy6A&usqp=CAU - as ./images\\carpenter_bee_sting\\0a748178e7.jpg\n",
      "SUCCESS - saved https://post.healthline.com/wp-content/uploads/2020/09/766x415_Home_Remedies_for_Bee_Stings_What_Works-732x415.jpg - as ./images\\carpenter_bee_sting\\40cb3e51a4.jpg\n",
      "SUCCESS - saved https://www.thoughtco.com/thmb/xpDkwbQIKeQlG4cntWyD7dLQ2dM=/1333x1000/smart/filters:no_upscale()/150749550-58b8e2803df78c353c24a69a.jpg - as ./images\\carpenter_bee_sting\\1e3da99a0f.jpg\n",
      "ERROR - Could not save https://www.jcehrlich.com/blog/wp-content/uploads/2019/05/do-carpenter-bees-sting-1280x720.jpg - cannot identify image file <_io.BytesIO object at 0x000001B690436D10>\n",
      "SUCCESS - saved https://ucanr.edu/blogs/bugsquad//blogfiles/55318_original.jpg - as ./images\\carpenter_bee_sting\\40d808eddf.jpg\n",
      "SUCCESS - saved https://encrypted-tbn0.gstatic.com/images?q=tbn:ANd9GcSMu-EYwwGEPxFdXXjB0FGJzATO7It9hCIcSQ&usqp=CAU - as ./images\\carpenter_bee_sting\\8d9faaeccb.jpg\n",
      "ERROR - Could not save https://takecaretermite.com/wp-content/uploads/2021/01/All-About-Carpenter-Bee-Sting-1280x720.png - cannot identify image file <_io.BytesIO object at 0x000001B68C5C8040>\n",
      "SUCCESS - saved https://encrypted-tbn0.gstatic.com/images?q=tbn:ANd9GcQcE0i21NhPu1WgE9B4LXzuZ561We2BPsVezQ&usqp=CAU - as ./images\\carpenter_bee_sting\\a3b08b5dff.jpg\n",
      "SUCCESS - saved https://encrypted-tbn0.gstatic.com/images?q=tbn:ANd9GcSYlK_J8ZCXQaxbxjjq3pJfIyZeqqnkdX69qQ&usqp=CAU - as ./images\\carpenter_bee_sting\\28c2e130ea.jpg\n",
      "SUCCESS - saved https://www.rescue.com/core/files/rescue/news/a48baab2138c7b489e613de951597d55.png - as ./images\\carpenter_bee_sting\\c43f5e4e7e.jpg\n",
      "SUCCESS - saved https://images.everydayhealth.com/images/skin-beauty/bug-bites/all-about-did-a-bee-sting-me-722x406.jpg - as ./images\\carpenter_bee_sting\\05177f0ae4.jpg\n",
      "SUCCESS - saved https://encrypted-tbn0.gstatic.com/images?q=tbn:ANd9GcT8zaEYI3MA0BF-76rHBy1J0ia1POchc-l0VQ&usqp=CAU - as ./images\\carpenter_bee_sting\\953fa03452.jpg\n",
      "SUCCESS - saved https://encrypted-tbn0.gstatic.com/images?q=tbn:ANd9GcTIyc0MF7w7PPWqdb6KoXqXEsawDtqsmDeCXw&usqp=CAU - as ./images\\carpenter_bee_sting\\f6cba3028e.jpg\n",
      "SUCCESS - saved https://encrypted-tbn0.gstatic.com/images?q=tbn:ANd9GcQcWdoVBX3s6DpdYQobfnyysVPKnjYlknjl1A&usqp=CAU - as ./images\\carpenter_bee_sting\\a8a3624206.jpg\n",
      "ERROR - Could not save https://3brpky2lh4q53rhxpldr0751-wpengine.netdna-ssl.com/wp-content/uploads/2021/04/carpenter-bee-sting.jpg - cannot identify image file <_io.BytesIO object at 0x000001B690DD0EA0>\n",
      "SUCCESS - saved https://i.ytimg.com/vi/O_7OR8IFas8/maxresdefault.jpg - as ./images\\carpenter_bee_sting\\5906cef6b0.jpg\n",
      "ERROR - Could not save https://www.westernexterminator.com/blog/wp-content/uploads/2019/01/carpenter-bee-featured-image.jpg - cannot identify image file <_io.BytesIO object at 0x000001B690DD0EA0>\n",
      "SUCCESS - saved https://encrypted-tbn0.gstatic.com/images?q=tbn:ANd9GcSJo6vRaud460PvgdS6bIBYjwC2jRt3juFA5w&usqp=CAU - as ./images\\carpenter_bee_sting\\624fc56652.jpg\n",
      "SUCCESS - saved https://encrypted-tbn0.gstatic.com/images?q=tbn:ANd9GcRfZBF0FFhtUeofGmxyNljUY8fHKtlIOTyHwg&usqp=CAU - as ./images\\carpenter_bee_sting\\98049c2803.jpg\n",
      "SUCCESS - saved https://encrypted-tbn0.gstatic.com/images?q=tbn:ANd9GcRCAggJgte8nWM-HHwG8DdDGGbTSUai0Gp7LA&usqp=CAU - as ./images\\carpenter_bee_sting\\19ea6a576c.jpg\n",
      "SUCCESS - saved https://www.waspcontrol.ca/wp-content/uploads/2020/06/How-serious-is-a-carpenter-bee-sting-ib.jpg - as ./images\\carpenter_bee_sting\\02e7dbde15.jpg\n",
      "SUCCESS - saved https://encrypted-tbn0.gstatic.com/images?q=tbn:ANd9GcSgk3NR9PuLKhDNFrchtbV8dlpY_CS9R4zTIw&usqp=CAU - as ./images\\carpenter_bee_sting\\5a54ef072a.jpg\n",
      "SUCCESS - saved https://encrypted-tbn0.gstatic.com/images?q=tbn:ANd9GcT2K1dBE_L4i19vzOuhCkh-0mfUreh4Bi0kyA&usqp=CAU - as ./images\\carpenter_bee_sting\\cf988355e0.jpg\n",
      "SUCCESS - saved https://post.healthline.com/wp-content/uploads/2020/08/732x549_How_Is_An_Infected_Bee_Sting_Treated-1-732x549.jpg - as ./images\\carpenter_bee_sting\\8e41feac65.jpg\n",
      "SUCCESS - saved https://cdn-www.terminix.com/-/media/Feature/Terminix/Articles/carpenter-bee-burrowing-main.jpg?rev=f541f19579094fbca013103a755639fe&h=450&w=600&la=en&hash=AEF4218D3AA72AC088D30EECAF48ACB9 - as ./images\\carpenter_bee_sting\\4806c2d544.jpg\n",
      "SUCCESS - saved https://encrypted-tbn0.gstatic.com/images?q=tbn:ANd9GcTR0LUiewx_CndIC1ZE84r_L6H9Dk93ngBTsg&usqp=CAU - as ./images\\carpenter_bee_sting\\f240577baf.jpg\n",
      "SUCCESS - saved https://i2.wp.com/typesofbees.info/wp-content/uploads/2014/07/carpenter-bee-1.jpg?fit=1200%2C804 - as ./images\\carpenter_bee_sting\\9f3e0a77f4.jpg\n",
      "ERROR - Could not save https://andersonpestsolutions.com/wp-content/uploads/2021/03/anderson-carpenter-bee.jpg - cannot identify image file <_io.BytesIO object at 0x000001B690DD3B80>\n",
      "SUCCESS - saved https://encrypted-tbn0.gstatic.com/images?q=tbn:ANd9GcRh0qPwY63WNuO604aAZQLBta8PHpLfxVszWg&usqp=CAU - as ./images\\carpenter_bee_sting\\9d84f47a67.jpg\n",
      "SUCCESS - saved https://www.pestworld.org/media/561889/carpenter-bee-2.jpg - as ./images\\carpenter_bee_sting\\d0fd96d831.jpg\n",
      "SUCCESS - saved https://www.pestworld.org/media/562181/carpenter-bee-pest-id-card_front.jpg - as ./images\\carpenter_bee_sting\\f6dc59a1ff.jpg\n",
      "SUCCESS - saved http://i.ytimg.com/vi/omf1aovmdCQ/hqdefault.jpg - as ./images\\carpenter_bee_sting\\99da893b75.jpg\n",
      "SUCCESS - saved https://cdn-www.terminix.com/-/media/Feature/Terminix/Articles/bee-sting.jpg?rev=533b566a406d4010b71b0d0971c52e49 - as ./images\\carpenter_bee_sting\\e69c6d64ca.jpg\n",
      "SUCCESS - saved https://encrypted-tbn0.gstatic.com/images?q=tbn:ANd9GcTE9gLlrTFA914rBdI4Adt_U0IeVHXKdnV3sQ&usqp=CAU - as ./images\\carpenter_bee_sting\\eb50e4e1fa.jpg\n",
      "SUCCESS - saved https://encrypted-tbn0.gstatic.com/images?q=tbn:ANd9GcRh67wSm43nUpWMBcdCI_TgI6_qj4c-Il6SHA&usqp=CAU - as ./images\\carpenter_bee_sting\\f4fdfdbdaf.jpg\n",
      "SUCCESS - saved https://cdn.shopify.com/s/files/1/1132/2638/files/bee-1.png?2164503913702153008 - as ./images\\carpenter_bee_sting\\f74a3d7973.jpg\n",
      "SUCCESS - saved https://encrypted-tbn0.gstatic.com/images?q=tbn:ANd9GcQRN2TQY-IqvBfHiFfiTOuLB_Ei_tkb-n-SJw&usqp=CAU - as ./images\\carpenter_bee_sting\\41e3a31f38.jpg\n",
      "SUCCESS - saved https://cdn-ext.agnet.tamu.edu/wp-content/uploads/2019/01/carpenterbee-fig2.jpg - as ./images\\carpenter_bee_sting\\f9553fac2e.jpg\n",
      "SUCCESS - saved https://encrypted-tbn0.gstatic.com/images?q=tbn:ANd9GcRJCtJDSLvfRLW1G-k578wzFhpHUCPN7Cm7sQ&usqp=CAU - as ./images\\carpenter_bee_sting\\b9770b97fd.jpg\n",
      "SUCCESS - saved https://assets-us-01.kc-usercontent.com/42d443c9-a54d-0088-5a56-d16a35c36920/34a74add-1b56-47bd-bf2c-82a7627eb26c/carpenter-bee-crawling-out-of-hole-nest.jpg - as ./images\\carpenter_bee_sting\\22c828483b.jpg\n",
      "SUCCESS - saved http://cdn.shopify.com/s/files/1/1132/2638/articles/Carpenter_Bee_grande.png?v=1555438704 - as ./images\\carpenter_bee_sting\\8df391c668.jpg\n",
      "SUCCESS - saved https://u9b2w4s6.rocketcdn.me/wp-content/uploads/2021/08/stop-carpenter-bees-01.jpg - as ./images\\carpenter_bee_sting\\e27466d7d9.jpg\n",
      "SUCCESS - saved https://infinitespider.com/wp-content/uploads/2018/06/Photo-from-2018-06-07-22-35-49.jpg - as ./images\\carpenter_bee_sting\\f6b49baa01.jpg\n",
      "SUCCESS - saved https://www.pestworld.org/media/561894/carpenter-bee.jpg - as ./images\\carpenter_bee_sting\\769d44bb53.jpg\n",
      "SUCCESS - saved https://encrypted-tbn0.gstatic.com/images?q=tbn:ANd9GcSzu4RmVGTra5XMxT4g_DVQ3tiInbDZ7xHq0w&usqp=CAU - as ./images\\carpenter_bee_sting\\41a1d32031.jpg\n",
      "SUCCESS - saved https://encrypted-tbn0.gstatic.com/images?q=tbn:ANd9GcR2pw4coVzmS8NLiDJawDjvKj7_tyi7G-xv9A&usqp=CAU - as ./images\\carpenter_bee_sting\\ba79e10065.jpg\n",
      "SUCCESS - saved https://encrypted-tbn0.gstatic.com/images?q=tbn:ANd9GcTni_V9LTXR5YBLwppcOxACHgcKlmP2xB971g&usqp=CAU - as ./images\\carpenter_bee_sting\\ba0b14e459.jpg\n",
      "SUCCESS - saved https://www.pestworld.org/media/561892/carpenter-bee-full-body-from-above-white-background.jpg - as ./images\\carpenter_bee_sting\\17afdc472b.jpg\n",
      "SUCCESS - saved https://i.ytimg.com/vi/wgWF0sIW9OM/maxresdefault.jpg - as ./images\\carpenter_bee_sting\\89bd241eb8.jpg\n",
      "SUCCESS - saved https://encrypted-tbn0.gstatic.com/images?q=tbn:ANd9GcTlcsbsbuvy3RVe9gX3tMF1wC3DvroiByoR1w&usqp=CAU - as ./images\\carpenter_bee_sting\\c2f7272dd7.jpg\n",
      "SUCCESS - saved https://cdn.shortpixel.ai/spai/w_924+q_lossless+ret_img+to_webp/https://beehivehero.com/wp-content/uploads/2019/05/carpenter-bee-1560475_1920-featured.jpg - as ./images\\carpenter_bee_sting\\acc3afd4be.jpg\n",
      "SUCCESS - saved https://transform.octanecdn.com/fit/1600x900/https://octanecdn.com/bredapest2019com/bredapest2019com_657437209.jpg - as ./images\\carpenter_bee_sting\\297dea1720.jpg\n",
      "SUCCESS - saved https://f.hubspotusercontent00.net/hubfs/6161105/blog-featured-images/carpenter-bee-in-wood-hole.jpg - as ./images\\carpenter_bee_sting\\83b7d920fb.jpg\n",
      "SUCCESS - saved https://encrypted-tbn0.gstatic.com/images?q=tbn:ANd9GcQUDyEXTCJuftsFvLdUI1_DwB4zqcTSw0KqAg&usqp=CAU - as ./images\\carpenter_bee_sting\\f471957448.jpg\n",
      "SUCCESS - saved https://encrypted-tbn0.gstatic.com/images?q=tbn:ANd9GcQh0SMtW64kwj3eFv7HmbBj30TdAXel1K3wYw&usqp=CAU - as ./images\\carpenter_bee_sting\\f074b954b3.jpg\n",
      "SUCCESS - saved https://www.peststrategies.com/wp-content/uploads/2018/07/do-carpenter-bees-sting_.jpg - as ./images\\carpenter_bee_sting\\011478c777.jpg\n",
      "SUCCESS - saved https://encrypted-tbn0.gstatic.com/images?q=tbn:ANd9GcQJqsigddEC0JSYzWiSrtrWIMJBR8ocRls_iA&usqp=CAU - as ./images\\carpenter_bee_sting\\f17116b1e4.jpg\n",
      "SUCCESS - saved https://www.stomppestcontrol.com/cms/wp-content/uploads/2019/07/carpenter-bees-in-Raleigh.jpg - as ./images\\carpenter_bee_sting\\ddf3305306.jpg\n",
      "SUCCESS - saved https://infinitespider.com/wp-content/uploads/2018/06/Photo-from-2018-06-07-22-36-17.jpg - as ./images\\carpenter_bee_sting\\5b1d509ec8.jpg\n",
      "SUCCESS - saved https://encrypted-tbn0.gstatic.com/images?q=tbn:ANd9GcQEYiyekf7pEnnoDi1H3_DyLtJxlAOb5azWZA&usqp=CAU - as ./images\\carpenter_bee_sting\\3afd0e2002.jpg\n",
      "ERROR - Could not save https://trustspringer.com/wp-content/uploads/2021/03/springer-carpenter-bee.jpg - cannot identify image file <_io.BytesIO object at 0x000001B68C63F9A0>\n",
      "SUCCESS - saved http://waspremovaltoronto.ca/wp-content/uploads/2020/06/How-serious-is-a-carpenter-bee-sting-ib-1.jpg - as ./images\\carpenter_bee_sting\\565d09baf9.jpg\n",
      "SUCCESS - saved https://encrypted-tbn0.gstatic.com/images?q=tbn:ANd9GcQL2Y0iMQKNU_x9vmcG9_ruc79CKSOeMT9Dlw&usqp=CAU - as ./images\\carpenter_bee_sting\\dd544bc0ac.jpg\n",
      "SUCCESS - saved https://static.mywebsites360.com/d99f17f8dfac48e890d2c3c28c6e061e/i/d5bb28263f80499ea33f59085d07a61c/1/4SoifmQp45JMgBnHp7ed2/bees%20damage.jpg - as ./images\\carpenter_bee_sting\\9b77919b21.jpg\n",
      "SUCCESS - saved https://encrypted-tbn0.gstatic.com/images?q=tbn:ANd9GcRWVqOnI9lamx2Vb1IahguRNLnwvzKokYkxpA&usqp=CAU - as ./images\\carpenter_bee_sting\\3621566989.jpg\n",
      "SUCCESS - saved https://encrypted-tbn0.gstatic.com/images?q=tbn:ANd9GcT5RysR7C2-7ucIJJHdqSI--PGeAjkQE25Kyw&usqp=CAU - as ./images\\carpenter_bee_sting\\32b641aea5.jpg\n",
      "SUCCESS - saved https://i0.wp.com/post.healthline.com/wp-content/uploads/2020/08/carpenter-bee-1296x728-header.jpg?w=1155&h=1528 - as ./images\\carpenter_bee_sting\\e304365392.jpg\n",
      "SUCCESS - saved https://www.homeownering.com/wp-content/uploads/2020/06/carpenter-bee-sting.png - as ./images\\carpenter_bee_sting\\ea92079f0d.jpg\n",
      "SUCCESS - saved https://qph.fs.quoracdn.net/main-qimg-02c0699a81adc1315b445476ae2396ad-lq - as ./images\\carpenter_bee_sting\\dcdea8693f.jpg\n",
      "SUCCESS - saved https://cdn.branchcms.com/P7oRqo3Eal-1329/images/blog/carpenter-bee-crawling-on-tree.jpg - as ./images\\carpenter_bee_sting\\8a62740df4.jpg\n",
      "SUCCESS - saved https://encrypted-tbn0.gstatic.com/images?q=tbn:ANd9GcQstv8-Kdq9Sm4Xqmsw65ob5d_R3Da0wp6-vw&usqp=CAU - as ./images\\carpenter_bee_sting\\ec1c7052e6.jpg\n",
      "SUCCESS - saved https://encrypted-tbn0.gstatic.com/images?q=tbn:ANd9GcTccG-8vDCyDoVsJ8Tk-QIfSBxASP1V_p64Lg&usqp=CAU - as ./images\\carpenter_bee_sting\\a135a1aee6.jpg\n",
      "SUCCESS - saved http://keepingbee.org/wp-content/uploads/2012/10/phoca_thumb_l_foto6-524x393.jpg - as ./images\\carpenter_bee_sting\\ec571dfc3e.jpg\n",
      "SUCCESS - saved https://encrypted-tbn0.gstatic.com/images?q=tbn:ANd9GcTy1YyBT0vTt7GvKIy26TZou09vWANn4ouTgQ&usqp=CAU - as ./images\\carpenter_bee_sting\\6eebd88b46.jpg\n",
      "SUCCESS - saved https://www.amdro.com/-/media/Images/Amdro2-NA/US/blog/Identifying-and-Controlling-Carpenter-Bee-Damage/control-bee-og.jpg - as ./images\\carpenter_bee_sting\\92027efe98.jpg\n",
      "SUCCESS - saved https://encrypted-tbn0.gstatic.com/images?q=tbn:ANd9GcTjfBFZqJOzkZ4i0inTW8gIVQoqJN7kga_j6Q&usqp=CAU - as ./images\\carpenter_bee_sting\\019e13fab3.jpg\n",
      "SUCCESS - saved https://encrypted-tbn0.gstatic.com/images?q=tbn:ANd9GcRCzciN_KDiNy6xhUMBrDRdC4L-Q7pI9zmbAg&usqp=CAU - as ./images\\carpenter_bee_sting\\e7f627ef13.jpg\n",
      "SUCCESS - saved https://www.americanpest.net/media/5n2jmpfy/istock_000043694070_medium.jpeg - as ./images\\carpenter_bee_sting\\e4ae30f7d9.jpg\n",
      "SUCCESS - saved https://encrypted-tbn0.gstatic.com/images?q=tbn:ANd9GcSRNtzuYT7THcS-y1v_0zWT7j_JfaVHRZRHAw&usqp=CAU - as ./images\\carpenter_bee_sting\\3665321646.jpg\n",
      "SUCCESS - saved https://encrypted-tbn0.gstatic.com/images?q=tbn:ANd9GcRxeIVEobIPEL4CVOKZze0q5OBCLpRXpWz9cg&usqp=CAU - as ./images\\carpenter_bee_sting\\c53bb3e8f2.jpg\n",
      "SUCCESS - saved https://cdn.branchcms.com/w7EpyeBpNP-1159/images/blog/little-stingers-from-bad-to-worse.jpg - as ./images\\carpenter_bee_sting\\b93d1e4d92.jpg\n",
      "SUCCESS - saved https://cdn.branchcms.com/nxmeNmZ4RE-1239/images/carpenter-bee-id.jpg - as ./images\\carpenter_bee_sting\\bd56972b78.jpg\n",
      "SUCCESS - saved https://www.ces.ncsu.edu/wp-content/uploads/2016/04/carpenter-bee.jpg - as ./images\\carpenter_bee_sting\\c493d71cbe.jpg\n",
      "SUCCESS - saved https://thedailypest.vikingpest.com/hubfs/carpenter-bee-blog.jpg - as ./images\\carpenter_bee_sting\\5b74c6f445.jpg\n",
      "SUCCESS - saved https://blogs.cornell.edu/nysipm/files/2016/05/male_eastern_carpenter_bee_by_duggiehoo-d5ujhcx-15stabo.jpg - as ./images\\carpenter_bee_sting\\8b09affa89.jpg\n",
      "SUCCESS - saved https://encrypted-tbn0.gstatic.com/images?q=tbn:ANd9GcS8_pA9ZnzAuR6jbRLaBqAA1PezVg-gVcK5MA&usqp=CAU - as ./images\\carpenter_bee_sting\\dbfefd3753.jpg\n",
      "SUCCESS - saved https://encrypted-tbn0.gstatic.com/images?q=tbn:ANd9GcTR1NTjM4yzSF1Gyy_6Dy5kcUdR3BmIOxYWmQ&usqp=CAU - as ./images\\carpenter_bee_sting\\ca35739d07.jpg\n",
      "SUCCESS - saved https://cdn.shopify.com/s/files/1/1132/2638/files/bee.png?2164503913702153008 - as ./images\\carpenter_bee_sting\\9fde06b65d.jpg\n",
      "SUCCESS - saved https://encrypted-tbn0.gstatic.com/images?q=tbn:ANd9GcSUp1U7c7r656e6cyRwhzDwxlDcR8Dnen_9wA&usqp=CAU - as ./images\\carpenter_bee_sting\\eb58002418.jpg\n",
      "ERROR - Could not save https://www.jcehrlich.com/blog/wp-content/uploads/2019/05/GettyImages-1144708508-e1558729163213.jpg - cannot identify image file <_io.BytesIO object at 0x000001B690DD0EA0>\n",
      "SUCCESS - saved https://www.bogpestcontrol.com/sites/default/files/styles/primary__800x400_/public/carpenter-bee-upclose.jpg?itok=GT2V5pBo - as ./images\\carpenter_bee_sting\\4a4a1270db.jpg\n",
      "SUCCESS - saved https://extension.msstate.edu/sites/default/files/styles/feature/public/blog/Bumble%20vs%20carpenter%20twitter%20FINAL.png?itok=OxW-UJYN - as ./images\\carpenter_bee_sting\\79adaa61af.jpg\n",
      "SUCCESS - saved https://encrypted-tbn0.gstatic.com/images?q=tbn:ANd9GcSBoh2K7KjqttIsYd9WlBjI_s76zAktFee7Gg&usqp=CAU - as ./images\\carpenter_bee_sting\\d21148421f.jpg\n",
      "SUCCESS - saved https://encrypted-tbn0.gstatic.com/images?q=tbn:ANd9GcRUI0UnmeHKm0ezfPVs8W0i3oZlzJbyIhlT1g&usqp=CAU - as ./images\\carpenter_bee_sting\\a539ed7bfb.jpg\n",
      "SUCCESS - saved https://encrypted-tbn0.gstatic.com/images?q=tbn:ANd9GcTNc44ePyY2eVh-K0ctPj2iI33ibQtOXqxdJg&usqp=CAU - as ./images\\carpenter_bee_sting\\e29ab57578.jpg\n",
      "ERROR - Could not save https://www.vikingpest.com/wp-content/uploads/2021/01/bee-id-chart.png - cannot identify image file <_io.BytesIO object at 0x000001B68C63F9A0>\n",
      "SUCCESS - saved https://www.pestworld.org/media/561893/carpenter-bee-white-background.jpg - as ./images\\carpenter_bee_sting\\e8bbb3f69a.jpg\n",
      "SUCCESS - saved https://encrypted-tbn0.gstatic.com/images?q=tbn:ANd9GcTKgeErAQ7EJA97blW3LzUsfL4YGtZQHrHnxA&usqp=CAU - as ./images\\carpenter_bee_sting\\8844c33108.jpg\n"
     ]
    }
   ],
   "source": [
    "search_term = \"carpenter bee\"\n",
    "\n",
    "search_and_download(search_term=search_term,\n",
    "                   driver_path = DRIVER_PATH, number_images= 100)\n",
    "#for word in search_words:\n",
    "#    dir_path = img_dir + word\n",
    "#    if not os.path.exists(dir_path):\n",
    "#        os.makedirs(dir_path)\n",
    "wd.quit()"
   ]
  },
  {
   "cell_type": "code",
   "execution_count": null,
   "metadata": {},
   "outputs": [],
   "source": []
  }
 ],
 "metadata": {
  "kernelspec": {
   "display_name": "Python 3 (ipykernel)",
   "language": "python",
   "name": "python3"
  },
  "language_info": {
   "codemirror_mode": {
    "name": "ipython",
    "version": 3
   },
   "file_extension": ".py",
   "mimetype": "text/x-python",
   "name": "python",
   "nbconvert_exporter": "python",
   "pygments_lexer": "ipython3",
   "version": "3.9.7"
  }
 },
 "nbformat": 4,
 "nbformat_minor": 4
}
