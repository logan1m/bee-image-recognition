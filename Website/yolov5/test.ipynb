{
 "cells": [
  {
   "cell_type": "code",
   "execution_count": null,
   "metadata": {},
   "outputs": [],
   "source": [
    "import os\n",
    "import torch\n",
    "from yolov5 import utils\n",
    "display = utils.notebook_init()  \n",
    "\n",
    "#detect.py --weights '..Users/logan/Documents/Data Mining/Project/test_images/best.pt' --source '../gdrive/MyDrive/darknet/test_images' --exist-ok  "
   ]
  },
  {
   "cell_type": "code",
   "execution_count": 23,
   "metadata": {},
   "outputs": [
    {
     "name": "stderr",
     "output_type": "stream",
     "text": [
      "\u001b[34m\u001b[1mdetect: \u001b[0mweights=['best.pt'], source='/Users/logan/Documents/Data_Mining/Project/test_images/', data=data\\coco128.yaml, imgsz=[640, 640], conf_thres=0.25, iou_thres=0.45, max_det=1000, device=, view_img=False, save_txt=False, save_conf=False, save_crop=False, nosave=False, classes=None, agnostic_nms=False, augment=False, visualize=False, update=False, project=runs\\detect, name=exp, exist_ok=True, line_thickness=3, hide_labels=False, hide_conf=False, half=False, dnn=False\n",
      "YOLOv5  2022-5-2 torch 1.11.0+cpu CPU\n",
      "\n",
      "Fusing layers... \n",
      "Model summary: 213 layers, 7018216 parameters, 0 gradients\n",
      "Traceback (most recent call last):\n",
      "  File \"c:\\Users\\logan\\Documents\\Data_Mining\\Project\\Website\\yolov5\\detect.py\", line 252, in <module>\n",
      "    main(opt)\n",
      "  File \"c:\\Users\\logan\\Documents\\Data_Mining\\Project\\Website\\yolov5\\detect.py\", line 247, in main\n",
      "    run(**vars(opt))\n",
      "  File \"C:\\Users\\logan\\Anaconda3\\lib\\site-packages\\torch\\autograd\\grad_mode.py\", line 27, in decorate_context\n",
      "    return func(*args, **kwargs)\n",
      "  File \"c:\\Users\\logan\\Documents\\Data_Mining\\Project\\Website\\yolov5\\detect.py\", line 103, in run\n",
      "    dataset = LoadImages(source, img_size=imgsz, stride=stride, auto=pt)\n",
      "  File \"c:\\Users\\logan\\Documents\\Data_Mining\\Project\\Website\\yolov5\\utils\\datasets.py\", line 189, in __init__\n",
      "    raise Exception(f'ERROR: {p} does not exist')\n",
      "Exception: ERROR: '\\Users\\logan\\Documents\\Data_Mining\\Project\\test_images\\' does not exist\n"
     ]
    }
   ],
   "source": [
    "os.chdir('c:\\\\Users\\\\logan\\\\Documents\\\\Data_Mining\\\\Project\\\\Website\\\\yolov5')\n",
    "!python detect.py --weights best.pt --source '/Users/logan/Documents/Data_Mining/Project/test_images/' --exist-ok"
   ]
  }
 ],
 "metadata": {
  "interpreter": {
   "hash": "03d8a7f871a9724f8c88b33b751ba9b00bea16b973a6526f1a26bc79cc96f0f4"
  },
  "kernelspec": {
   "display_name": "Python 3.9.7 ('base')",
   "language": "python",
   "name": "python3"
  },
  "language_info": {
   "codemirror_mode": {
    "name": "ipython",
    "version": 3
   },
   "file_extension": ".py",
   "mimetype": "text/x-python",
   "name": "python",
   "nbconvert_exporter": "python",
   "pygments_lexer": "ipython3",
   "version": "3.9.7"
  },
  "orig_nbformat": 4
 },
 "nbformat": 4,
 "nbformat_minor": 2
}
